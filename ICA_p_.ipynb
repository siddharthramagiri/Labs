{
 "cells": [
  {
   "cell_type": "code",
   "execution_count": 9,
   "id": "b5c06374-b9bb-42de-aeaf-9b625d9296e4",
   "metadata": {},
   "outputs": [],
   "source": [
    "import pandas as pd\n",
    "from sklearn.model_selection import train_test_split\n",
    "from sklearn.decomposition import FastICA\n",
    "from sklearn.datasets import load_iris\n",
    "import matplotlib.pyplot as plt"
   ]
  },
  {
   "cell_type": "code",
   "execution_count": 7,
   "id": "51a86d5f-6763-4527-ace6-129dca926c72",
   "metadata": {},
   "outputs": [],
   "source": [
    "data= load_iris()\n",
    "x=data.data\n",
    "y=data.target\n",
    "ica = FastICA(n_components = 2, random_state=100)\n",
    "x_ica = ica.fit_transform(x)"
   ]
  },
  {
   "cell_type": "code",
   "execution_count": 3,
   "id": "398b585a-1faa-4e61-b004-770415e2747c",
   "metadata": {},
   "outputs": [
    {
     "name": "stdout",
     "output_type": "stream",
     "text": [
      "Before:  (150, 4)\n"
     ]
    }
   ],
   "source": [
    "print(\"Before: \",x.shape)"
   ]
  },
  {
   "cell_type": "code",
   "execution_count": 8,
   "id": "cefb4a40-f560-4e0d-a7b7-c742c90704d2",
   "metadata": {},
   "outputs": [
    {
     "name": "stdout",
     "output_type": "stream",
     "text": [
      "After:  (150, 2)\n"
     ]
    }
   ],
   "source": [
    "print(\"After: \",x_ica.shape)"
   ]
  },
  {
   "cell_type": "code",
   "execution_count": 11,
   "id": "cdb9ba44-275a-4f69-a042-185b9461fb79",
   "metadata": {},
   "outputs": [
    {
     "data": {
      "text/plain": [
       "<Figure size 640x480 with 0 Axes>"
      ]
     },
     "metadata": {},
     "output_type": "display_data"
    }
   ],
   "source": [
    "plt.figure()\n",
    "df = pd.DataFrame(x_ica,columns=['ICA1','ICA2'])"
   ]
  },
  {
   "cell_type": "code",
   "execution_count": null,
   "id": "eeed0d49-a3c1-473c-b4d5-b79ed32de162",
   "metadata": {},
   "outputs": [],
   "source": []
  }
 ],
 "metadata": {
  "kernelspec": {
   "display_name": "Python 3 (ipykernel)",
   "language": "python",
   "name": "python3"
  },
  "language_info": {
   "codemirror_mode": {
    "name": "ipython",
    "version": 3
   },
   "file_extension": ".py",
   "mimetype": "text/x-python",
   "name": "python",
   "nbconvert_exporter": "python",
   "pygments_lexer": "ipython3",
   "version": "3.12.6"
  }
 },
 "nbformat": 4,
 "nbformat_minor": 5
}
