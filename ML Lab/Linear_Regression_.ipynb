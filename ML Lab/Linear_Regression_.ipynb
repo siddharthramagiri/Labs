{
 "cells": [
  {
   "cell_type": "code",
   "execution_count": 6,
   "id": "b120edfc-0976-481b-9f51-7aa384c1e709",
   "metadata": {},
   "outputs": [],
   "source": [
    "from sklearn.linear_model import LinearRegression\n",
    "model = LinearRegression()\n",
    "from sklearn.metrics import mean_squared_error, r2_score"
   ]
  },
  {
   "cell_type": "code",
   "execution_count": 4,
   "id": "2f781133-4cf4-41a8-ba12-996248dabfae",
   "metadata": {},
   "outputs": [],
   "source": [
    "from sklearn.model_selection import train_test_split\n",
    "import pandas as pd\n",
    "data = pd.read_csv(\"C:/Users/kandi/Downloads/Advertising.csv\")\n",
    "x=data[['TV','Radio','Newspaper']]\n",
    "y = data['Sales']\n"
   ]
  },
  {
   "cell_type": "code",
   "execution_count": 7,
   "id": "64473a37-8ea9-402f-a3ba-baee54716922",
   "metadata": {},
   "outputs": [],
   "source": [
    "x_train,x_test,y_train,y_test = train_test_split(x,y,test_size=0.4,random_state=8)\n",
    "model.fit(x_train,y_train)\n",
    "pred = model.predict(x_test)\n",
    "mse = mean_squared_error(y_test,pred)\n",
    "r2 = r2_score(y_test,pred)\n",
    "cf = model.coef_\n",
    "intercept = model.intercept_"
   ]
  },
  {
   "cell_type": "code",
   "execution_count": 8,
   "id": "9d5b22cb-45bb-485e-9bcb-5c41d641de3b",
   "metadata": {},
   "outputs": [
    {
     "name": "stdout",
     "output_type": "stream",
     "text": [
      "Mean Squared Error:  3.337320772799785\n"
     ]
    }
   ],
   "source": [
    "print(\"Mean Squared Error: \",mse)"
   ]
  },
  {
   "cell_type": "code",
   "execution_count": 9,
   "id": "64cb0ed0-93cf-4fa6-9088-d3eb86728a8c",
   "metadata": {},
   "outputs": [
    {
     "name": "stdout",
     "output_type": "stream",
     "text": [
      "R2_Score :  0.8907069407331235\n"
     ]
    }
   ],
   "source": [
    "print(\"R2_Score : \",r2)"
   ]
  },
  {
   "cell_type": "code",
   "execution_count": 10,
   "id": "bf48f454-ceaf-4494-9159-2711c36d22f2",
   "metadata": {},
   "outputs": [
    {
     "name": "stdout",
     "output_type": "stream",
     "text": [
      "Coeff:  [ 0.04591785  0.18649434 -0.00909731]\n"
     ]
    }
   ],
   "source": [
    "print(\"Coeff: \",cf)"
   ]
  },
  {
   "cell_type": "code",
   "execution_count": 11,
   "id": "f34842c9-6bbb-466b-b5d4-e7922a562e9d",
   "metadata": {},
   "outputs": [
    {
     "name": "stdout",
     "output_type": "stream",
     "text": [
      "Intercept :  3.1918827781798598\n"
     ]
    }
   ],
   "source": [
    "print(\"Intercept : \",intercept)"
   ]
  }
 ],
 "metadata": {
  "kernelspec": {
   "display_name": "Python 3 (ipykernel)",
   "language": "python",
   "name": "python3"
  },
  "language_info": {
   "codemirror_mode": {
    "name": "ipython",
    "version": 3
   },
   "file_extension": ".py",
   "mimetype": "text/x-python",
   "name": "python",
   "nbconvert_exporter": "python",
   "pygments_lexer": "ipython3",
   "version": "3.12.6"
  }
 },
 "nbformat": 4,
 "nbformat_minor": 5
}
